{
 "cells": [
  {
   "cell_type": "code",
   "execution_count": null,
   "id": "aaf55675-6add-4f1b-8120-d9e632013686",
   "metadata": {
    "tags": []
   },
   "outputs": [],
   "source": [
    "from mmdet.apis import inference_detector, init_detector, show_result_pyplot\n",
    "from PIL import Image\n",
    "import cv2"
   ]
  },
  {
   "cell_type": "code",
   "execution_count": null,
   "id": "5d5d6867-ba82-4925-8e20-e27c43d87d6b",
   "metadata": {},
   "outputs": [],
   "source": [
    "def test(video):\n",
    "    config = 'configs/scrfd/scrfd_34g.py'\n",
    "    checkpoint = 'weights/SCRFD_34G.pth'\n",
    "    device = 'cuda:0'\n",
    "    score_thr = 0.3\n",
    "    model = init_detector(config, checkpoint, device=device)\n",
    "    cap = cv2.VideoCapture('videos/' + video)\n",
    "    width = int(cap.get(cv2.CAP_PROP_FRAME_WIDTH))\n",
    "    height = int(cap.get(cv2.CAP_PROP_FRAME_HEIGHT))\n",
    "    fps = int(cap.get(cv2.CAP_PROP_FPS))\n",
    "    out = cv2.VideoWriter('videos/output/' + video, cv2.VideoWriter_fourcc('m','p', '4', 'v'), fps, (width,height))\n",
    "    while(cap.isOpened()):\n",
    "        ok, frame = cap.read()\n",
    "        if ok:\n",
    "            result = inference_detector(model, frame)\n",
    "            if hasattr(model, 'module'):\n",
    "                model = model.module\n",
    "            result_frame = model.show_result(frame, result, score_thr=score_thr, show=False)\n",
    "            out.write(result_frame)\n",
    "        else:\n",
    "            break\n",
    "    out.release()\n",
    "    cap.release()"
   ]
  },
  {
   "cell_type": "code",
   "execution_count": null,
   "id": "471891f6-3c24-403e-8308-43dcdf694ba8",
   "metadata": {},
   "outputs": [],
   "source": [
    "test('b.mp4')\n",
    "test('c.mp4')\n",
    "test('d.mp4')\n",
    "test('g.mp4')\n",
    "test('h.mp4')\n",
    "test('i.mp4')\n",
    "test('k.mp4')\n",
    "test('m.mp4')\n",
    "test('n.mp4')"
   ]
  },
  {
   "cell_type": "code",
   "execution_count": null,
   "id": "3be1da9a-3e25-44c8-b002-37d5eb523edb",
   "metadata": {},
   "outputs": [],
   "source": []
  }
 ],
 "metadata": {
  "kernelspec": {
   "display_name": "Python 3 (ipykernel)",
   "language": "python",
   "name": "python3"
  },
  "language_info": {
   "codemirror_mode": {
    "name": "ipython",
    "version": 3
   },
   "file_extension": ".py",
   "mimetype": "text/x-python",
   "name": "python",
   "nbconvert_exporter": "python",
   "pygments_lexer": "ipython3",
   "version": "3.8.10"
  }
 },
 "nbformat": 4,
 "nbformat_minor": 5
}
