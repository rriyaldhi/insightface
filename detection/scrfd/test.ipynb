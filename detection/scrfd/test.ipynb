{
 "cells": [
  {
   "cell_type": "code",
   "execution_count": null,
   "id": "aaf55675-6add-4f1b-8120-d9e632013686",
   "metadata": {
    "tags": []
   },
   "outputs": [],
   "source": [
    "from mmdet.apis import inference_detector, init_detector, show_result_pyplot\n",
    "import mmcv\n",
    "from PIL import Image"
   ]
  },
  {
   "cell_type": "code",
   "execution_count": null,
   "id": "7fefd466-bf8b-49d2-ab46-6a0f719c7aac",
   "metadata": {},
   "outputs": [],
   "source": [
    "def save(model, img, result, score_thr, filename):\n",
    "    if hasattr(model, 'module'):\n",
    "        model = model.module\n",
    "    img = model.show_result(img, result, score_thr=score_thr, show=False)\n",
    "    img = mmcv.bgr2rgb(img)    \n",
    "    im = Image.fromarray(img)\n",
    "    im.save(filename)"
   ]
  },
  {
   "cell_type": "code",
   "execution_count": null,
   "id": "5e649d34-a732-4a15-8e9b-64dbd797cf4d",
   "metadata": {},
   "outputs": [],
   "source": [
    "def test(input_img_name):\n",
    "    input_img = 'images/' + input_img_name\n",
    "    output_img = 'outputs/' + input_img_name\n",
    "    result = inference_detector(model, input_img)\n",
    "    save(model, input_img, result, score_thr, output_img)"
   ]
  },
  {
   "cell_type": "code",
   "execution_count": null,
   "id": "84d8de22-3476-468e-a6d9-0af44aa2728c",
   "metadata": {},
   "outputs": [],
   "source": [
    "config = 'configs/scrfd/scrfd_34g.py'\n",
    "checkpoint = 'weights/SCRFD_34G.pth'\n",
    "device = 'cuda:0'\n",
    "score_thr = 0.3"
   ]
  },
  {
   "cell_type": "code",
   "execution_count": null,
   "id": "01f0cc34-26da-4e58-b75e-25eaef5c4893",
   "metadata": {},
   "outputs": [],
   "source": [
    "model = init_detector(config, checkpoint, device=device)"
   ]
  },
  {
   "cell_type": "code",
   "execution_count": null,
   "id": "9a278fa7-22ae-4838-824d-6ff2213df747",
   "metadata": {},
   "outputs": [],
   "source": [
    "test('car_0.jpg')\n",
    "test('hockey_0.jpg')\n",
    "test('hockey_1.jpg')\n",
    "test('hockey_3.jpg')\n",
    "test('mask_far.jpg')\n",
    "test('mask_mirror.jpg')\n",
    "test('mask_multiple.jpg')\n",
    "test('mask_night.jpg')\n",
    "test('orchestra.1280.jpeg')\n",
    "test('orchestra.1920.jpeg')\n",
    "test('orchestra.360.jpeg')\n",
    "test('orchestra.4096.jpeg')\n",
    "test('orchestra.720.jpeg')\n",
    "test('parade_0.jpg')\n",
    "test('parade_1.jpg')\n",
    "test('parade_2.jpg')"
   ]
  },
  {
   "cell_type": "code",
   "execution_count": null,
   "id": "471891f6-3c24-403e-8308-43dcdf694ba8",
   "metadata": {},
   "outputs": [],
   "source": []
  }
 ],
 "metadata": {
  "kernelspec": {
   "display_name": "Python 3 (ipykernel)",
   "language": "python",
   "name": "python3"
  },
  "language_info": {
   "codemirror_mode": {
    "name": "ipython",
    "version": 3
   },
   "file_extension": ".py",
   "mimetype": "text/x-python",
   "name": "python",
   "nbconvert_exporter": "python",
   "pygments_lexer": "ipython3",
   "version": "3.8.10"
  }
 },
 "nbformat": 4,
 "nbformat_minor": 5
}